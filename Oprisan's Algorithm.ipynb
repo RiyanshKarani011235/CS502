{
 "cells": [
  {
   "cell_type": "code",
   "execution_count": null,
   "metadata": {},
   "outputs": [],
   "source": [
    "import matplotlib\n",
    "import random\n",
    "from tqdm import tqdm\n",
    "import collections\n",
    "import math\n",
    "\n",
    "import datetime\n",
    "from datetime import date\n",
    "import pandas as pd\n",
    "import numpy as np\n",
    "from plotly import __version__\n",
    "#%matplotlib inline\n",
    "\n",
    "# INITIALIZE PLOTLY TO RUN OFFLINE INSTEAD OF ONLINE\n",
    "import json\n",
    "import plotly.offline as pyo\n",
    "import plotly.graph_objs as go\n",
    "from plotly.tools import FigureFactory as FF\n",
    "from plotly import tools\n",
    "\n",
    "import cufflinks as cf\n",
    "from plotly.offline import download_plotlyjs, init_notebook_mode, plot, iplot\n",
    "\n",
    "init_notebook_mode(connected=True)\n",
    "cf.go_offline()\n",
    "\n",
    "init_notebook_mode(connected=True)"
   ]
  },
  {
   "cell_type": "code",
   "execution_count": null,
   "metadata": {
    "scrolled": false
   },
   "outputs": [],
   "source": [
    "class AntClusteringModel:\n",
    "    def __init__(self, grid_size=200, num_ants=10, num_objects=100, ant_memory_size=50, k1=0.1, k2=0.3, time_steps=5000000, num_key_frames=100, ant_memory_time_factor_degree=1):\n",
    "        self._grid_size = grid_size\n",
    "        self._num_ants = num_ants\n",
    "        self._num_objects = num_objects\n",
    "        self.k1 = k1\n",
    "        self.k2 = k2\n",
    "        self._time_steps = time_steps\n",
    "        self._num_key_frames = num_key_frames\n",
    "        self._grid = Grid(grid_size, ant_memory_size, k1, k2, ant_memory_time_factor_degree=ant_memory_time_factor_degree)\n",
    "\n",
    "    def initialize_grid(self):\n",
    "        self._grid.initialize_objects_randomly(self._num_objects)\n",
    "        self._grid.initialize_ants_randomly(self._num_ants)\n",
    "\n",
    "    def simulate(self):\n",
    "        # make figure\n",
    "        \n",
    "        x,y = self._grid.get_objects()\n",
    "        figure = {\n",
    "            'data': [\n",
    "                {'x': x, 'y': y, 'xaxis': 'x', 'yaxis': 'y', 'mode': 'markers', 'name': 'objects'}, \n",
    "                {'x': [0], 'y': [0], 'xaxis': 'x2', 'yaxis': 'y2', 'name': 'spatial entropy'}\n",
    "            ],\n",
    "            'layout': {\n",
    "                'xaxis': {'anchor': 'y', 'domain': [0.0, 0.45]},\n",
    "                'xaxis2': {'anchor': 'y2', 'domain': [0.55, 1.0]},\n",
    "                'yaxis': {'anchor': 'x', 'domain': [0.0, 1.0]},\n",
    "                'yaxis2': {'anchor': 'x2', 'domain': [0.0, 1.0]}\n",
    "            },\n",
    "            'frames': []\n",
    "        }\n",
    "\n",
    "        # fill in most of layout\n",
    "        figure['layout']['hovermode'] = 'closest'\n",
    "        figure['layout']['updatemenus'] = [\n",
    "            {\n",
    "                'buttons': [\n",
    "                    {\n",
    "                        'args': [None, {'frame': {'duration': 500, 'redraw': False},\n",
    "                                 'fromcurrent': True, 'transition': {'duration': 300, 'easing': 'quadratic-in-out'}}],\n",
    "                        'label': 'Play',\n",
    "                        'method': 'animate'\n",
    "                    },\n",
    "                    {\n",
    "                        'args': [[None], {'frame': {'duration': 0, 'redraw': False}, 'mode': 'immediate',\n",
    "                        'transition': {'duration': 0}}],\n",
    "                        'label': 'Pause',\n",
    "                        'method': 'animate'\n",
    "                    }\n",
    "                ],\n",
    "                'direction': 'left',\n",
    "                'pad': {'r': 10, 't': 87},\n",
    "                'showactive': False,\n",
    "                'type': 'buttons',\n",
    "                'x': 0.1,\n",
    "                'xanchor': 'right',\n",
    "                'y': 0,\n",
    "                'yanchor': 'top'\n",
    "            }\n",
    "        ]\n",
    "        \n",
    "        spatial_entropy_x = []\n",
    "        spatial_entropy_y = []\n",
    "        for i in tqdm(range(self._time_steps)):\n",
    "            self._grid.update()\n",
    "            \n",
    "            if i % 50000 == 0:\n",
    "                spatial_entropy_x.append(i/50000)\n",
    "                spatial_entropy_y.append(self._grid.compute_spatial_entropy(10))\n",
    "                x,y = self._grid.get_objects()\n",
    "                figure['frames'].append(\n",
    "                    {'data': [\n",
    "                        {'x': x, 'xaxis': 'x', 'y': y, 'yaxis': 'y', 'mode': 'markers', 'name': 'objects'},\n",
    "                        {'x': spatial_entropy_x, 'y': spatial_entropy_y, 'xaxis': 'x2', 'yaxis': 'y2', 'name': 'spatial entropy'}\n",
    "                    ]})\n",
    "            \n",
    "        self._figure = figure\n",
    "    \n",
    "    def plot(self):\n",
    "        pyo.iplot(self._figure)"
   ]
  },
  {
   "cell_type": "markdown",
   "metadata": {},
   "source": [
    "## A model of the Grid"
   ]
  },
  {
   "cell_type": "code",
   "execution_count": null,
   "metadata": {},
   "outputs": [],
   "source": [
    "class Grid:\n",
    "    def __init__(self, size, ant_memory_size, k1, k2, ant_memory_time_factor_degree=1):\n",
    "        self._size = size\n",
    "        self._ant_memory_size = ant_memory_size\n",
    "        self._k1 = k1\n",
    "        self._k2 = k2\n",
    "        self._ant_memory_time_factor_degree = ant_memory_time_factor_degree\n",
    "        self.initialize_empty_grid()\n",
    "\n",
    "    def initialize_empty_grid(self):\n",
    "        self._grid = [[Cell() for i in range(self._size)] for j in range(self._size)]\n",
    "    \n",
    "    def initialize_objects_randomly(self, num_initialized_objects):\n",
    "        initialized_objects = 0\n",
    "        while initialized_objects < num_initialized_objects and initialized_objects < self._size*self._size:\n",
    "            i = random.randint(0, self._size-1)\n",
    "            j = random.randint(0, self._size-1)\n",
    "            if not self._grid[i][j].has_object():\n",
    "                self._grid[i][j].set_object(Object())\n",
    "                initialized_objects += 1\n",
    "    \n",
    "    def initialize_ants_randomly(self, num_initialized_ants):\n",
    "        self._ants = []\n",
    "        position_ants_map = {}\n",
    "        initialized_ants = 0\n",
    "        while initialized_ants < num_initialized_ants and initialized_ants < self._size*self._size:\n",
    "            i = random.randint(0, self._size-1)\n",
    "            j = random.randint(0, self._size-1)\n",
    "            if (i, j) not in position_ants_map:\n",
    "                self._ants.append(Ant(self._ant_memory_size, i, j, self._k1, self._k2, self._ant_memory_time_factor_degree))\n",
    "                position_ants_map[(i, j)] = True\n",
    "                initialized_ants += 1\n",
    "\n",
    "    def update(self):\n",
    "        for ant in self._ants:\n",
    "            ant.move_randomly(self._size)\n",
    "\n",
    "            i, j = ant.get_position()\n",
    "            # save in memory\n",
    "            if self._grid[i][j].has_object():\n",
    "                ant.object_encountered(1)\n",
    "            else:\n",
    "                ant.object_encountered(0)\n",
    "\n",
    "            if ant.has_object():\n",
    "                if not self._grid[i][j].has_object():\n",
    "                    # ant already has object, decide whether to drop it\n",
    "                    if random.random() < ant.compute_drop_probability():\n",
    "                        # drop\n",
    "                        self._grid[i][j].set_object(Object())\n",
    "                        ant.drop_object()\n",
    "\n",
    "            elif self._grid[i][j].has_object():\n",
    "                # decide wiether to pick up the object\n",
    "                if random.random() < ant.compute_pick_probability():\n",
    "                    # pick\n",
    "                    self._grid[i][j].remove_object()\n",
    "                    ant.pick_object()\n",
    "                    \n",
    "    def compute_spatial_entropy(self, s):\n",
    "        spatial_entropy = 0\n",
    "        num_objects = self.compute_num_objects()\n",
    "        for i in range(0, self._size, s):\n",
    "            for j in range(0, self._size, s):\n",
    "                p = 0\n",
    "                for k in range(s):\n",
    "                    for l in range(s):\n",
    "                        if self._grid[i+k][j+l].has_object():\n",
    "                            p += 1\n",
    "                p /= 1.0 * num_objects\n",
    "                if p != 0:\n",
    "                    spatial_entropy -= p * math.log(p)\n",
    "        return spatial_entropy\n",
    "                \n",
    "    def compute_num_objects(self):\n",
    "        num_objects = 0\n",
    "        for i in range(self._size):\n",
    "            for j in range(self._size):\n",
    "                if self._grid[i][j].has_object():\n",
    "                    num_objects += 1\n",
    "        return num_objects\n",
    "                    \n",
    "    def get_objects(self):\n",
    "        x = []\n",
    "        y = []\n",
    "        for i in range(self._size):\n",
    "            for j in range(self._size):\n",
    "                if self._grid[i][j].has_object():\n",
    "                    x.append(i)\n",
    "                    y.append(j)\n",
    "\n",
    "        for ant in self._ants:\n",
    "            if ant.has_object():\n",
    "                i, j = ant.get_position()\n",
    "                x.append(i)\n",
    "                y.append(j)\n",
    "                \n",
    "        return x, y\n",
    "\n",
    "\n",
    "class Cell:\n",
    "    def __init__(self, object_=None, ant=None):\n",
    "        self._object = object_\n",
    "        self._ant = ant\n",
    "\n",
    "    def has_object(self):\n",
    "        return self._object != None\n",
    "\n",
    "    def set_object(self, object_):\n",
    "        self._object = object_\n",
    "\n",
    "    def remove_object(self):\n",
    "        self._object = None\n",
    "\n",
    "    def get_object(self):\n",
    "        return self._object"
   ]
  },
  {
   "cell_type": "markdown",
   "metadata": {},
   "source": [
    "## A Model of the ant"
   ]
  },
  {
   "cell_type": "code",
   "execution_count": null,
   "metadata": {},
   "outputs": [],
   "source": [
    "class Ant:\n",
    "    def __init__(self, memory_size, i, j, k1, k2, time_factor_degree=1):\n",
    "        self.memory_size = memory_size\n",
    "        self.i = i\n",
    "        self.j = j\n",
    "        self._k1 = k1\n",
    "        self._k2 = k2\n",
    "        self._has_object = False\n",
    "        self._time_factor_degree = time_factor_degree\n",
    "        self.memory = collections.deque(maxlen=self.memory_size)\n",
    "\n",
    "    def has_object(self):\n",
    "        return self._has_object\n",
    "\n",
    "    def pick_object(self):\n",
    "        self._has_object = True\n",
    "\n",
    "    def drop_object(self):\n",
    "        self._has_object = False\n",
    "\n",
    "    def get_position(self):\n",
    "        return (self.i, self.j)\n",
    "\n",
    "    def move_randomly(self, grid_size):\n",
    "        delta_i = random.randint(-1, 1)\n",
    "        delta_j = random.randint(-1, 1)\n",
    "        if self.i + delta_i < grid_size and self.i + delta_i >= 0:\n",
    "            self.i += delta_i\n",
    "\n",
    "        if self.j + delta_j < grid_size and self.j + delta_j >= 0:\n",
    "            self.j += delta_j\n",
    "\n",
    "    def object_encountered(self, object):\n",
    "        self.memory.append(object)\n",
    "\n",
    "    # inﬂuence of previously encountered objects \n",
    "    # is distributedby a time factor\n",
    "    def compute_frequency(self):\n",
    "        memory = list(self.memory)\n",
    "        f = 0\n",
    "        for i, o in enumerate(memory):\n",
    "            f += ((i * 1.0 /self.memory_size) ** self._time_factor_degree) * o\n",
    "        return f/self.memory_size\n",
    "    \n",
    "    def compute_pick_probability(self):\n",
    "        f = self.compute_frequency()\n",
    "        return (self._k1/(f+self._k1))**2\n",
    "    \n",
    "    def compute_drop_probability(self):\n",
    "        f = self.compute_frequency()\n",
    "        return (f/(f+self._k2))**2\n",
    "\n",
    "class Object:\n",
    "    def __init__(self):\n",
    "        pass"
   ]
  },
  {
   "cell_type": "markdown",
   "metadata": {},
   "source": [
    "## Simulation"
   ]
  },
  {
   "cell_type": "code",
   "execution_count": null,
   "metadata": {},
   "outputs": [],
   "source": [
    "model = AntClusteringModel()\n",
    "model.initialize_grid()\n",
    "model.simulate()\n",
    "model.plot()"
   ]
  },
  {
   "cell_type": "markdown",
   "metadata": {},
   "source": [
    "## Ant Memory with Super-linear time factor"
   ]
  },
  {
   "cell_type": "markdown",
   "metadata": {},
   "source": [
    "### degree = 2"
   ]
  },
  {
   "cell_type": "code",
   "execution_count": null,
   "metadata": {},
   "outputs": [],
   "source": [
    "model = AntClusteringModel(ant_memory_time_factor_degree=2)\n",
    "model.initialize_grid()\n",
    "model.simulate()\n",
    "model.plot()"
   ]
  },
  {
   "cell_type": "markdown",
   "metadata": {},
   "source": [
    "### degree = 4"
   ]
  },
  {
   "cell_type": "code",
   "execution_count": null,
   "metadata": {
    "scrolled": false
   },
   "outputs": [],
   "source": [
    "model = AntClusteringModel(ant_memory_time_factor_degree=4)\n",
    "model.initialize_grid()\n",
    "model.simulate()\n",
    "model.plot()"
   ]
  },
  {
   "cell_type": "markdown",
   "metadata": {},
   "source": [
    "### degree = 8"
   ]
  },
  {
   "cell_type": "code",
   "execution_count": null,
   "metadata": {},
   "outputs": [],
   "source": [
    "model = AntClusteringModel(ant_memory_time_factor_degree=8)\n",
    "model.initialize_grid()\n",
    "model.simulate()\n",
    "model.plot()"
   ]
  },
  {
   "cell_type": "markdown",
   "metadata": {},
   "source": [
    "## Ant Memory with Sub-linear time factor"
   ]
  },
  {
   "cell_type": "markdown",
   "metadata": {},
   "source": [
    "### degree = 1/3"
   ]
  },
  {
   "cell_type": "code",
   "execution_count": null,
   "metadata": {
    "scrolled": false
   },
   "outputs": [],
   "source": [
    "model = AntClusteringModel(ant_memory_time_factor_degree=0.33)\n",
    "model.initialize_grid()\n",
    "model.simulate()\n",
    "model.plot()"
   ]
  },
  {
   "cell_type": "markdown",
   "metadata": {},
   "source": [
    "### degree = 1/5"
   ]
  },
  {
   "cell_type": "code",
   "execution_count": null,
   "metadata": {},
   "outputs": [],
   "source": [
    "model = AntClusteringModel(ant_memory_time_factor_degree=0.2)\n",
    "model.initialize_grid()\n",
    "model.simulate()\n",
    "model.plot()"
   ]
  },
  {
   "cell_type": "code",
   "execution_count": null,
   "metadata": {},
   "outputs": [],
   "source": []
  }
 ],
 "metadata": {
  "kernelspec": {
   "display_name": "Python 2",
   "language": "python",
   "name": "python2"
  },
  "language_info": {
   "codemirror_mode": {
    "name": "ipython",
    "version": 2
   },
   "file_extension": ".py",
   "mimetype": "text/x-python",
   "name": "python",
   "nbconvert_exporter": "python",
   "pygments_lexer": "ipython2",
   "version": "2.7.10"
  }
 },
 "nbformat": 4,
 "nbformat_minor": 2
}
